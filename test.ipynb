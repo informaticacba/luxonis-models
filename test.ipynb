{
 "cells": [
  {
   "cell_type": "code",
   "execution_count": 14,
   "metadata": {},
   "outputs": [
    {
     "name": "stdout",
     "output_type": "stream",
     "text": [
      "{None: 1739}\n"
     ]
    }
   ],
   "source": [
    "from luxonis_ml import *\n",
    "from luxonis_train.utils.augmentations import ValAugmentations\n",
    "from luxonis_train.utils.config import Config\n",
    "\n",
    "cfg = Config(\"configs/simple_class.yaml\")\n",
    "\n",
    "with LuxonisDataset(\n",
    "    team_name=\"luxonis\",\n",
    "    dataset_name=\"coco_500\"\n",
    ") as dataset:\n",
    "\n",
    "    loader_train = LuxonisLoader(\n",
    "        dataset,\n",
    "        view=\"train\",\n",
    "        augmentations=ValAugmentations()\n",
    "    )\n",
    "    # dataset.launch_app()\n",
    "    fo_dataset = dataset.get_classes_counts()\n",
    "    print(fo_dataset.count_values(\"coco.class.label\"))"
   ]
  }
 ],
 "metadata": {
  "kernelspec": {
   "display_name": "models",
   "language": "python",
   "name": "python3"
  },
  "language_info": {
   "codemirror_mode": {
    "name": "ipython",
    "version": 3
   },
   "file_extension": ".py",
   "mimetype": "text/x-python",
   "name": "python",
   "nbconvert_exporter": "python",
   "pygments_lexer": "ipython3",
   "version": "3.8.16"
  },
  "orig_nbformat": 4
 },
 "nbformat": 4,
 "nbformat_minor": 2
}
